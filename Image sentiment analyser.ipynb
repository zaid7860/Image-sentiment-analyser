{
 "cells": [
  {
   "cell_type": "markdown",
   "metadata": {},
   "source": [
    "# Problem Statement"
   ]
  },
  {
   "cell_type": "markdown",
   "metadata": {},
   "source": [
    "### Finding Sentiment of Picture's Text"
   ]
  },
  {
   "cell_type": "markdown",
   "metadata": {},
   "source": [
    "# Describtion\n",
    "\n"
   ]
  },
  {
   "cell_type": "markdown",
   "metadata": {},
   "source": [
    "#### -Finding sentiment in a picture's text, this will be helpfull in filtering put hatred on social media,\n",
    "####  This is achieve  by making a generic sentiment based model using  160M dataset  and applying a OCR on top of it"
   ]
  },
  {
   "cell_type": "markdown",
   "metadata": {},
   "source": [
    "# Constraints"
   ]
  },
  {
   "cell_type": "markdown",
   "metadata": {},
   "source": [
    "#### Low latency as it will be consumed by social media users and there has to be low latency in detection of such issues"
   ]
  },
  {
   "cell_type": "markdown",
   "metadata": {},
   "source": [
    "#### Cost of mis-classification is moderate."
   ]
  },
  {
   "cell_type": "markdown",
   "metadata": {},
   "source": [
    "# DATASET = https://www.kaggle.com/kazanova/sentiment140"
   ]
  },
  {
   "cell_type": "code",
   "execution_count": 1,
   "metadata": {},
   "outputs": [],
   "source": [
    "import numpy as np # linear algebra\n",
    "import pandas as pd # data processing, CSV file I/O (e.g. pd.read_csv)\n",
    "from sklearn.feature_extraction.text import TfidfVectorizer\n",
    "\n",
    "\n",
    "import re\n",
    "# Tutorial about Python regular expressions: https://pymotw.com/2/re/\n",
    "import string\n",
    "from nltk.corpus import stopwords\n",
    "from nltk.stem import PorterStemmer\n",
    "from nltk.stem.wordnet import WordNetLemmatizer\n",
    "from bs4 import BeautifulSoup\n",
    "import re\n",
    "from nltk.corpus import stopwords\n",
    "from nltk.stem import PorterStemmer\n",
    "from bs4 import BeautifulSoup\n",
    "import re\n",
    "\n",
    "import spacy\n",
    "\n",
    "\n",
    "\n",
    "\n",
    "\n"
   ]
  },
  {
   "cell_type": "code",
   "execution_count": 2,
   "metadata": {},
   "outputs": [],
   "source": [
    "df=pd.read_csv('training.1600000.processed.noemoticon.csv',encoding=\"ISO-8859-1\", names=[\"target\", \"ids\", \"date\", \"flag\", \"user\", \"text\"])\n",
    "df.drop(['ids','flag','date','user'],axis=1,inplace=True)\n",
    "df['target']=df['target'].apply(lambda x: x/4)\n",
    "\n",
    "\n",
    "\n"
   ]
  },
  {
   "cell_type": "code",
   "execution_count": 3,
   "metadata": {},
   "outputs": [],
   "source": [
    "import seaborn as sns\n",
    "\n",
    "sns.distplot(df['target'], kde=False, rug=True,bins=3); #SNS DISPLOT\n"
   ]
  },
  {
   "cell_type": "markdown",
   "metadata": {},
   "source": [
    "# DATA IS BALANCED"
   ]
  },
  {
   "cell_type": "code",
   "execution_count": 4,
   "metadata": {},
   "outputs": [
    {
     "data": {
      "text/plain": [
       "<matplotlib.axes._subplots.AxesSubplot at 0x12d032e10>"
      ]
     },
     "execution_count": 4,
     "metadata": {},
     "output_type": "execute_result"
    },
    {
     "data": {
      "image/png": "[encoded data removed]",
      "text/plain": [
       "<Figure size 432x288 with 1 Axes>"
      ]
     },
     "metadata": {
      "needs_background": "light"
     },
     "output_type": "display_data"
    }
   ],
   "source": [
    "sns.distplot(df['target'])\n",
    "\n",
    "\n"
   ]
  },
  {
   "cell_type": "markdown",
   "metadata": {},
   "source": [
    "### DATA FOLLOWS GAUSSIAN DISTRIBUTION , WITH NEGATIVE FOLLOWING LEFT SKEWNESS AND POSITVE BEING RIGHT SKEWED"
   ]
  },
  {
   "cell_type": "markdown",
   "metadata": {},
   "source": [
    "# TEXT PREPROCCESING"
   ]
  },
  {
   "cell_type": "code",
   "execution_count": 5,
   "metadata": {},
   "outputs": [],
   "source": [
    "from nltk.stem.porter import PorterStemmer\n",
    "\n",
    "\n",
    "\n",
    "\n",
    "stopwords= set(['br', 'the', 'i', 'me', 'my', 'myself', 'we', 'our', 'ours', 'ourselves', 'you', \"you're\", \"you've\",\\\n",
    "            \"you'll\", \"you'd\", 'your', 'yours', 'yourself', 'yourselves', 'he', 'him', 'his', 'himself', \\\n",
    "            'she', \"she's\", 'her', 'hers', 'herself', 'it', \"it's\", 'its', 'itself', 'they', 'them', 'their',\\\n",
    "            'theirs', 'themselves', 'what', 'which', 'who', 'whom', 'this', 'that', \"that'll\", 'these', 'those', \\\n",
    "            'am', 'is', 'are', 'was', 'were', 'be', 'been', 'being', 'have', 'has', 'had', 'having', 'do', 'does', \\\n",
    "            'did', 'doing', 'a', 'an', 'the', 'and', 'but', 'if', 'or', 'because', 'as', 'until', 'while', 'of', \\\n",
    "            'at', 'by', 'for', 'with', 'about', 'against', 'between', 'into', 'through', 'during', 'before', 'after',\\\n",
    "            'above', 'below', 'to', 'from', 'up', 'down', 'in', 'out', 'on', 'off', 'over', 'under', 'again', 'further',\\\n",
    "            'then', 'once', 'here', 'there', 'when', 'where', 'why', 'how', 'all', 'any', 'both', 'each', 'few', 'more',\\\n",
    "            'most', 'other', 'some', 'such', 'only', 'own', 'same', 'so', 'than', 'too', 'very', \\\n",
    "            's', 't', 'can', 'will', 'just', 'don', \"don't\", 'should', \"should've\", 'now', 'd', 'll', 'm', 'o', 're', \\\n",
    "            've', 'y', 'ain', 'aren', \"aren't\", 'couldn', \"couldn't\", 'didn', \"didn't\", 'doesn', \"doesn't\", 'hadn',\\\n",
    "            \"hadn't\", 'hasn', \"hasn't\", 'haven', \"haven't\", 'isn', \"isn't\", 'ma', 'mightn', \"mightn't\", 'mustn',\\\n",
    "            \"mustn't\", #'needn', \"needn't\", 'shan', \"shan't\", 'shouldn', \"shouldn't\", 'wasn', \"wasn't\", 'weren', \"weren't\", \\\n",
    "            #'won', \"won't\", 'wouldn', \"wouldn't\"\n",
    "               ])"
   ]
  },
  {
   "cell_type": "code",
   "execution_count": 7,
   "metadata": {},
   "outputs": [],
   "source": [
    "def preprocess(x):\n",
    "    x = str(x).lower()\n",
    "    x = x.replace(\",000,000\", \"m\").replace(\",000\", \"k\").replace(\"′\", \"'\").replace(\"’\", \"'\")                           .replace(\"won't\", \"will not\").replace(\"cannot\", \"can not\").replace(\"can't\", \"can not\")                           .replace(\"n't\", \" not\").replace(\"what's\", \"what is\").replace(\"it's\", \"it is\")                           .replace(\"'ve\", \" have\").replace(\"i'm\", \"i am\").replace(\"'re\", \" are\")                           .replace(\"he's\", \"he is\").replace(\"she's\", \"she is\").replace(\"'s\", \" own\")                           .replace(\"%\", \" percent \").replace(\"₹\", \" rupee \").replace(\"$\", \" dollar \")                           .replace(\"€\", \" euro \").replace(\"'ll\", \" will\")\n",
    "    x = re.sub(r\"([0-9]+)000000\", r\"\\1m\", x)\n",
    "    x = re.sub(r\"([0-9]+)000\", r\"\\1k\", x)\n",
    "    x = re.sub(r\"http\\S+\", \"\", x)\n",
    "     # specific\n",
    "    x = re.sub(r\"won't\", \"will not\", x)\n",
    "    x = re.sub(r\"can\\'t\", \"can not\", x)\n",
    "\n",
    "    # general\n",
    "    x = re.sub(r\"n\\'t\", \" not\", x)\n",
    "    x = re.sub(r\"\\'re\", \" are\", x)\n",
    "    x = re.sub(r\"\\'s\", \" is\", x)\n",
    "    x = re.sub(r\"\\'d\", \" would\", x)\n",
    "    x = re.sub(r\"\\'ll\", \" will\", x)\n",
    "    x = re.sub(r\"\\'t\", \" not\", x)\n",
    "    x = re.sub(r\"\\'ve\", \" have\", x)\n",
    "    x = re.sub(r\"\\'m\", \" am\", x)\n",
    "    x = re.sub(r\"http\\S+\", \"\", x)\n",
    "    x= re.sub('[^A-Za-z]+', ' ', x)\n",
    "    # https://gist.github.com/sebleier/554280\n",
    "    x = ' '.join(e.lower() for e in x.split() if e.lower() not in stopwords)\n",
    "    \n",
    "    \n",
    "    porter = PorterStemmer()\n",
    "    pattern = re.compile('\\W')\n",
    "\n",
    "    if type(x) == type(''):\n",
    "        x = re.sub(pattern, ' ', x)\n",
    "    \n",
    "    \n",
    "    if type(x) == type(''):\n",
    "        x = porter.stem(x)\n",
    "        example1 = BeautifulSoup(x)\n",
    "        x = example1.get_text()\n",
    "               \n",
    "    \n",
    "    return x"
   ]
  },
  {
   "cell_type": "code",
   "execution_count": 8,
   "metadata": {},
   "outputs": [],
   "source": [
    "df['text'] = df['text'].apply(lambda x: preprocess(x))\n"
   ]
  },
  {
   "cell_type": "code",
   "execution_count": 9,
   "metadata": {},
   "outputs": [
    {
     "data": {
      "text/html": [
       "<div>\n",
       "<style scoped>\n",
       "    .dataframe tbody tr th:only-of-type {\n",
       "        vertical-align: middle;\n",
       "    }\n",
       "\n",
       "    .dataframe tbody tr th {\n",
       "        vertical-align: top;\n",
       "    }\n",
       "\n",
       "    .dataframe thead th {\n",
       "        text-align: right;\n",
       "    }\n",
       "</style>\n",
       "<table border=\"1\" class=\"dataframe\">\n",
       "  <thead>\n",
       "    <tr style=\"text-align: right;\">\n",
       "      <th></th>\n",
       "      <th>target</th>\n",
       "      <th>text</th>\n",
       "    </tr>\n",
       "  </thead>\n",
       "  <tbody>\n",
       "    <tr>\n",
       "      <th>0</th>\n",
       "      <td>0.0</td>\n",
       "      <td>switchfoot awww bummer shoulda got david carr ...</td>\n",
       "    </tr>\n",
       "    <tr>\n",
       "      <th>1</th>\n",
       "      <td>0.0</td>\n",
       "      <td>upset not update facebook texting might cry re...</td>\n",
       "    </tr>\n",
       "    <tr>\n",
       "      <th>2</th>\n",
       "      <td>0.0</td>\n",
       "      <td>kenichan dived many times ball managed save pe...</td>\n",
       "    </tr>\n",
       "    <tr>\n",
       "      <th>3</th>\n",
       "      <td>0.0</td>\n",
       "      <td>whole body feels itchy like fir</td>\n",
       "    </tr>\n",
       "    <tr>\n",
       "      <th>4</th>\n",
       "      <td>0.0</td>\n",
       "      <td>nationwideclass no not behaving mad not se</td>\n",
       "    </tr>\n",
       "    <tr>\n",
       "      <th>5</th>\n",
       "      <td>0.0</td>\n",
       "      <td>kwesidei not whole crew</td>\n",
       "    </tr>\n",
       "    <tr>\n",
       "      <th>6</th>\n",
       "      <td>0.0</td>\n",
       "      <td>need hug</td>\n",
       "    </tr>\n",
       "    <tr>\n",
       "      <th>7</th>\n",
       "      <td>0.0</td>\n",
       "      <td>loltrish hey long time no see yes rains bit bi...</td>\n",
       "    </tr>\n",
       "    <tr>\n",
       "      <th>8</th>\n",
       "      <td>0.0</td>\n",
       "      <td>tatiana k nope not</td>\n",
       "    </tr>\n",
       "    <tr>\n",
       "      <th>9</th>\n",
       "      <td>0.0</td>\n",
       "      <td>twittera que muera</td>\n",
       "    </tr>\n",
       "    <tr>\n",
       "      <th>10</th>\n",
       "      <td>0.0</td>\n",
       "      <td>spring break plain city snow</td>\n",
       "    </tr>\n",
       "    <tr>\n",
       "      <th>11</th>\n",
       "      <td>0.0</td>\n",
       "      <td>pierced ear</td>\n",
       "    </tr>\n",
       "    <tr>\n",
       "      <th>12</th>\n",
       "      <td>0.0</td>\n",
       "      <td>caregiving could not bear watch thought ua los...</td>\n",
       "    </tr>\n",
       "    <tr>\n",
       "      <th>13</th>\n",
       "      <td>0.0</td>\n",
       "      <td>octolinz counts idk either never talk anymor</td>\n",
       "    </tr>\n",
       "    <tr>\n",
       "      <th>14</th>\n",
       "      <td>0.0</td>\n",
       "      <td>smarrison would first not gun not really thoug...</td>\n",
       "    </tr>\n",
       "    <tr>\n",
       "      <th>15</th>\n",
       "      <td>0.0</td>\n",
       "      <td>iamjazzyfizzle wish got watch miss iamlilnicki...</td>\n",
       "    </tr>\n",
       "    <tr>\n",
       "      <th>16</th>\n",
       "      <td>0.0</td>\n",
       "      <td>hollis death scene hurt severely watch film wr...</td>\n",
       "    </tr>\n",
       "    <tr>\n",
       "      <th>17</th>\n",
       "      <td>0.0</td>\n",
       "      <td>file tax</td>\n",
       "    </tr>\n",
       "    <tr>\n",
       "      <th>18</th>\n",
       "      <td>0.0</td>\n",
       "      <td>lettya ahh ive always wanted see rent love sou...</td>\n",
       "    </tr>\n",
       "    <tr>\n",
       "      <th>19</th>\n",
       "      <td>0.0</td>\n",
       "      <td>fakerpattypattz oh dear drinking forgotten tab...</td>\n",
       "    </tr>\n",
       "    <tr>\n",
       "      <th>20</th>\n",
       "      <td>0.0</td>\n",
       "      <td>alydesigns day not get much don</td>\n",
       "    </tr>\n",
       "    <tr>\n",
       "      <th>21</th>\n",
       "      <td>0.0</td>\n",
       "      <td>one friend called asked meet mid valley today ...</td>\n",
       "    </tr>\n",
       "    <tr>\n",
       "      <th>22</th>\n",
       "      <td>0.0</td>\n",
       "      <td>angry barista baked cake</td>\n",
       "    </tr>\n",
       "    <tr>\n",
       "      <th>23</th>\n",
       "      <td>0.0</td>\n",
       "      <td>week not going hop</td>\n",
       "    </tr>\n",
       "    <tr>\n",
       "      <th>24</th>\n",
       "      <td>0.0</td>\n",
       "      <td>blagh class tomorrow</td>\n",
       "    </tr>\n",
       "    <tr>\n",
       "      <th>25</th>\n",
       "      <td>0.0</td>\n",
       "      <td>hate call wake peopl</td>\n",
       "    </tr>\n",
       "    <tr>\n",
       "      <th>26</th>\n",
       "      <td>0.0</td>\n",
       "      <td>going cry sleep watching marley</td>\n",
       "    </tr>\n",
       "    <tr>\n",
       "      <th>27</th>\n",
       "      <td>0.0</td>\n",
       "      <td>im sad miss lilli</td>\n",
       "    </tr>\n",
       "    <tr>\n",
       "      <th>28</th>\n",
       "      <td>0.0</td>\n",
       "      <td>ooooh lol leslie ok not leslie not get mad</td>\n",
       "    </tr>\n",
       "    <tr>\n",
       "      <th>29</th>\n",
       "      <td>0.0</td>\n",
       "      <td>meh almost lover exception track gets depresse...</td>\n",
       "    </tr>\n",
       "    <tr>\n",
       "      <th>...</th>\n",
       "      <td>...</td>\n",
       "      <td>...</td>\n",
       "    </tr>\n",
       "    <tr>\n",
       "      <th>1599970</th>\n",
       "      <td>1.0</td>\n",
       "      <td>thanks eastwestchic amp wangyip thanks look</td>\n",
       "    </tr>\n",
       "    <tr>\n",
       "      <th>1599971</th>\n",
       "      <td>1.0</td>\n",
       "      <td>marttn thanks martin not imaginative interfac</td>\n",
       "    </tr>\n",
       "    <tr>\n",
       "      <th>1599972</th>\n",
       "      <td>1.0</td>\n",
       "      <td>mikejonesphoto congrats mike way go</td>\n",
       "    </tr>\n",
       "    <tr>\n",
       "      <th>1599973</th>\n",
       "      <td>1.0</td>\n",
       "      <td>omg office space wanna st</td>\n",
       "    </tr>\n",
       "    <tr>\n",
       "      <th>1599974</th>\n",
       "      <td>1.0</td>\n",
       "      <td>yrclndstnlvr ahaha nooo away everyone else see...</td>\n",
       "    </tr>\n",
       "    <tr>\n",
       "      <th>1599975</th>\n",
       "      <td>1.0</td>\n",
       "      <td>bizcoachdeb hey baack thanks much kind notes g...</td>\n",
       "    </tr>\n",
       "    <tr>\n",
       "      <th>1599976</th>\n",
       "      <td>1.0</td>\n",
       "      <td>mattycus yeah conscience would clear cas</td>\n",
       "    </tr>\n",
       "    <tr>\n",
       "      <th>1599977</th>\n",
       "      <td>1.0</td>\n",
       "      <td>mayordoriswolfe thats girl dishing quot advice...</td>\n",
       "    </tr>\n",
       "    <tr>\n",
       "      <th>1599978</th>\n",
       "      <td>1.0</td>\n",
       "      <td>shebbs second</td>\n",
       "    </tr>\n",
       "    <tr>\n",
       "      <th>1599979</th>\n",
       "      <td>1.0</td>\n",
       "      <td>garden</td>\n",
       "    </tr>\n",
       "    <tr>\n",
       "      <th>1599980</th>\n",
       "      <td>1.0</td>\n",
       "      <td>myheartandmind jo jen nemuselo zrovna holce ae...</td>\n",
       "    </tr>\n",
       "    <tr>\n",
       "      <th>1599981</th>\n",
       "      <td>1.0</td>\n",
       "      <td>another commenting contest yay</td>\n",
       "    </tr>\n",
       "    <tr>\n",
       "      <th>1599982</th>\n",
       "      <td>1.0</td>\n",
       "      <td>thrillmesoon figured see tweets facebook statu...</td>\n",
       "    </tr>\n",
       "    <tr>\n",
       "      <th>1599983</th>\n",
       "      <td>1.0</td>\n",
       "      <td>oxhot theri tomorrow drinking coffee talking i...</td>\n",
       "    </tr>\n",
       "    <tr>\n",
       "      <th>1599984</th>\n",
       "      <td>1.0</td>\n",
       "      <td>heard first girl hope looks wendy brains kiddi...</td>\n",
       "    </tr>\n",
       "    <tr>\n",
       "      <th>1599985</th>\n",
       "      <td>1.0</td>\n",
       "      <td>ur lead singer band beware falling prey lsd qu...</td>\n",
       "    </tr>\n",
       "    <tr>\n",
       "      <th>1599986</th>\n",
       "      <td>1.0</td>\n",
       "      <td>tarayqueen much ads blog</td>\n",
       "    </tr>\n",
       "    <tr>\n",
       "      <th>1599987</th>\n",
       "      <td>1.0</td>\n",
       "      <td>la r neveer think get wel</td>\n",
       "    </tr>\n",
       "    <tr>\n",
       "      <th>1599988</th>\n",
       "      <td>1.0</td>\n",
       "      <td>roy everitt ha good job right gotta throw bigr...</td>\n",
       "    </tr>\n",
       "    <tr>\n",
       "      <th>1599989</th>\n",
       "      <td>1.0</td>\n",
       "      <td>ms hip hop im glad ur wel</td>\n",
       "    </tr>\n",
       "    <tr>\n",
       "      <th>1599990</th>\n",
       "      <td>1.0</td>\n",
       "      <td>wooooo xbox back</td>\n",
       "    </tr>\n",
       "    <tr>\n",
       "      <th>1599991</th>\n",
       "      <td>1.0</td>\n",
       "      <td>rmedina latati mmmm sounds absolutely perfect ...</td>\n",
       "    </tr>\n",
       "    <tr>\n",
       "      <th>1599992</th>\n",
       "      <td>1.0</td>\n",
       "      <td>recovering long weekend</td>\n",
       "    </tr>\n",
       "    <tr>\n",
       "      <th>1599993</th>\n",
       "      <td>1.0</td>\n",
       "      <td>scooby gritboy</td>\n",
       "    </tr>\n",
       "    <tr>\n",
       "      <th>1599994</th>\n",
       "      <td>1.0</td>\n",
       "      <td>cliff forster yeah work better waiting end won...</td>\n",
       "    </tr>\n",
       "    <tr>\n",
       "      <th>1599995</th>\n",
       "      <td>1.0</td>\n",
       "      <td>woke no school best feeling ev</td>\n",
       "    </tr>\n",
       "    <tr>\n",
       "      <th>1599996</th>\n",
       "      <td>1.0</td>\n",
       "      <td>thewdb com cool hear old walt interview</td>\n",
       "    </tr>\n",
       "    <tr>\n",
       "      <th>1599997</th>\n",
       "      <td>1.0</td>\n",
       "      <td>ready mojo makeover ask detail</td>\n",
       "    </tr>\n",
       "    <tr>\n",
       "      <th>1599998</th>\n",
       "      <td>1.0</td>\n",
       "      <td>happy th birthday boo alll time tupac amaru sh...</td>\n",
       "    </tr>\n",
       "    <tr>\n",
       "      <th>1599999</th>\n",
       "      <td>1.0</td>\n",
       "      <td>happy charitytuesday thenspcc sparkscharity sp...</td>\n",
       "    </tr>\n",
       "  </tbody>\n",
       "</table>\n",
       "<p>1600000 rows × 2 columns</p>\n",
       "</div>"
      ],
      "text/plain": [
       "         target                                               text\n",
       "0           0.0  switchfoot awww bummer shoulda got david carr ...\n",
       "1           0.0  upset not update facebook texting might cry re...\n",
       "2           0.0  kenichan dived many times ball managed save pe...\n",
       "3           0.0                    whole body feels itchy like fir\n",
       "4           0.0         nationwideclass no not behaving mad not se\n",
       "5           0.0                            kwesidei not whole crew\n",
       "6           0.0                                           need hug\n",
       "7           0.0  loltrish hey long time no see yes rains bit bi...\n",
       "8           0.0                                 tatiana k nope not\n",
       "9           0.0                                 twittera que muera\n",
       "10          0.0                       spring break plain city snow\n",
       "11          0.0                                        pierced ear\n",
       "12          0.0  caregiving could not bear watch thought ua los...\n",
       "13          0.0       octolinz counts idk either never talk anymor\n",
       "14          0.0  smarrison would first not gun not really thoug...\n",
       "15          0.0  iamjazzyfizzle wish got watch miss iamlilnicki...\n",
       "16          0.0  hollis death scene hurt severely watch film wr...\n",
       "17          0.0                                           file tax\n",
       "18          0.0  lettya ahh ive always wanted see rent love sou...\n",
       "19          0.0  fakerpattypattz oh dear drinking forgotten tab...\n",
       "20          0.0                    alydesigns day not get much don\n",
       "21          0.0  one friend called asked meet mid valley today ...\n",
       "22          0.0                          angry barista baked cake \n",
       "23          0.0                                 week not going hop\n",
       "24          0.0                               blagh class tomorrow\n",
       "25          0.0                               hate call wake peopl\n",
       "26          0.0                    going cry sleep watching marley\n",
       "27          0.0                                  im sad miss lilli\n",
       "28          0.0         ooooh lol leslie ok not leslie not get mad\n",
       "29          0.0  meh almost lover exception track gets depresse...\n",
       "...         ...                                                ...\n",
       "1599970     1.0        thanks eastwestchic amp wangyip thanks look\n",
       "1599971     1.0      marttn thanks martin not imaginative interfac\n",
       "1599972     1.0                mikejonesphoto congrats mike way go\n",
       "1599973     1.0                          omg office space wanna st\n",
       "1599974     1.0  yrclndstnlvr ahaha nooo away everyone else see...\n",
       "1599975     1.0  bizcoachdeb hey baack thanks much kind notes g...\n",
       "1599976     1.0           mattycus yeah conscience would clear cas\n",
       "1599977     1.0  mayordoriswolfe thats girl dishing quot advice...\n",
       "1599978     1.0                                      shebbs second\n",
       "1599979     1.0                                             garden\n",
       "1599980     1.0  myheartandmind jo jen nemuselo zrovna holce ae...\n",
       "1599981     1.0                     another commenting contest yay\n",
       "1599982     1.0  thrillmesoon figured see tweets facebook statu...\n",
       "1599983     1.0  oxhot theri tomorrow drinking coffee talking i...\n",
       "1599984     1.0  heard first girl hope looks wendy brains kiddi...\n",
       "1599985     1.0  ur lead singer band beware falling prey lsd qu...\n",
       "1599986     1.0                           tarayqueen much ads blog\n",
       "1599987     1.0                          la r neveer think get wel\n",
       "1599988     1.0  roy everitt ha good job right gotta throw bigr...\n",
       "1599989     1.0                          ms hip hop im glad ur wel\n",
       "1599990     1.0                                   wooooo xbox back\n",
       "1599991     1.0  rmedina latati mmmm sounds absolutely perfect ...\n",
       "1599992     1.0                            recovering long weekend\n",
       "1599993     1.0                                     scooby gritboy\n",
       "1599994     1.0  cliff forster yeah work better waiting end won...\n",
       "1599995     1.0                     woke no school best feeling ev\n",
       "1599996     1.0            thewdb com cool hear old walt interview\n",
       "1599997     1.0                     ready mojo makeover ask detail\n",
       "1599998     1.0  happy th birthday boo alll time tupac amaru sh...\n",
       "1599999     1.0  happy charitytuesday thenspcc sparkscharity sp...\n",
       "\n",
       "[1600000 rows x 2 columns]"
      ]
     },
     "execution_count": 9,
     "metadata": {},
     "output_type": "execute_result"
    }
   ],
   "source": [
    "df"
   ]
  },
  {
   "cell_type": "markdown",
   "metadata": {},
   "source": [
    "### Spliting the data"
   ]
  },
  {
   "cell_type": "code",
   "execution_count": 10,
   "metadata": {},
   "outputs": [],
   "source": [
    "from sklearn.model_selection import train_test_split"
   ]
  },
  {
   "cell_type": "code",
   "execution_count": 11,
   "metadata": {},
   "outputs": [
    {
     "name": "stderr",
     "output_type": "stream",
     "text": [
      "/Users/abuzaid/anaconda3/lib/python3.7/site-packages/sklearn/model_selection/_split.py:2179: FutureWarning: From version 0.21, test_size will always complement train_size unless both are specified.\n",
      "  FutureWarning)\n"
     ]
    }
   ],
   "source": [
    "X = df.text               #Spliting data\n",
    "y = df.target\n",
    "X_train, X_test, y_train, y_test = train_test_split(X, y, train_size = 0.30, random_state = 100)\n",
    "X_cv, X_test, y_cv, y_test = train_test_split(X_train, y_train, train_size = 0.30, random_state = 100)"
   ]
  },
  {
   "cell_type": "markdown",
   "metadata": {},
   "source": [
    "#   Using TF-IDF to convert text into vectors\n"
   ]
  },
  {
   "cell_type": "code",
   "execution_count": 12,
   "metadata": {},
   "outputs": [],
   "source": [
    "# Using TF-IDF to convert text into vectors\n",
    "tfidf_vectorizer =  TfidfVectorizer(stop_words = stopwords, ngram_range=(1, 2)).fit(df['text']) # Creating tfidf object\n",
    "tfidf_train = tfidf_vectorizer.fit_transform(X_train) #Converting Text to tfidf vectors\n",
    "tfidf_cv = tfidf_vectorizer.transform(X_cv)\n",
    "tfidf_test = tfidf_vectorizer.transform(X_test)"
   ]
  },
  {
   "cell_type": "code",
   "execution_count": 13,
   "metadata": {},
   "outputs": [],
   "source": [
    "#creating model\n",
    "\n",
    "from sklearn.linear_model import PassiveAggressiveClassifier\n",
    "from sklearn.metrics import accuracy_score, confusion_matrix"
   ]
  },
  {
   "cell_type": "code",
   "execution_count": 14,
   "metadata": {},
   "outputs": [
    {
     "name": "stderr",
     "output_type": "stream",
     "text": [
      "/Users/abuzaid/anaconda3/lib/python3.7/site-packages/sklearn/linear_model/stochastic_gradient.py:183: FutureWarning: max_iter and tol parameters have been added in PassiveAggressiveClassifier in 0.19. If max_iter is set but tol is left unset, the default value for tol in 0.19 and 0.20 will be None (which is equivalent to -infinity, so it has no effect) but will change in 0.21 to 1e-3. Specify tol to silence this warning.\n",
      "  FutureWarning)\n"
     ]
    },
    {
     "name": "stdout",
     "output_type": "stream",
     "text": [
      "Accuracy: 99.72708333333333\n"
     ]
    },
    {
     "data": {
      "text/plain": [
       "<matplotlib.axes._subplots.AxesSubplot at 0x1412ff710>"
      ]
     },
     "execution_count": 14,
     "metadata": {},
     "output_type": "execute_result"
    },
    {
     "data": {
      "image/png": "[encoded data removed]",
      "text/plain": [
       "<Figure size 432x288 with 2 Axes>"
      ]
     },
     "metadata": {
      "needs_background": "light"
     },
     "output_type": "display_data"
    }
   ],
   "source": [
    "pac = PassiveAggressiveClassifier(max_iter = 50)            #Passive Classifier\n",
    "pac.fit(tfidf_train, y_train)\n",
    "cv_pred = pac.predict(tfidf_cv)\n",
    "pac_score_cv = accuracy_score(y_cv, cv_pred)*100\n",
    "print('Accuracy:', pac_score_cv)\n",
    "cm= confusion_matrix(y_cv, cv_pred)\n",
    "\n",
    "sns.heatmap(cm,annot=True)"
   ]
  },
  {
   "cell_type": "code",
   "execution_count": 15,
   "metadata": {},
   "outputs": [
    {
     "name": "stdout",
     "output_type": "stream",
     "text": [
      "~~~~~~~Accuracy on Test data~~~~~~~~~~~: 99.7154761904762\n"
     ]
    },
    {
     "data": {
      "text/plain": [
       "<matplotlib.axes._subplots.AxesSubplot at 0x134db6860>"
      ]
     },
     "execution_count": 15,
     "metadata": {},
     "output_type": "execute_result"
    },
    {
     "data": {
      "image/png": "[encoded data removed]",
      "text/plain": [
       "<Figure size 432x288 with 2 Axes>"
      ]
     },
     "metadata": {
      "needs_background": "light"
     },
     "output_type": "display_data"
    }
   ],
   "source": [
    "test_pred = pac.predict(tfidf_test)                        #Testing of Passive Classifier of Test data\n",
    "pac_score_test = accuracy_score(y_test, test_pred)*100\n",
    "print('~~~~~~~Accuracy on Test data~~~~~~~~~~~:', pac_score_test)\n",
    "cm1= confusion_matrix(y_test, test_pred)\n",
    "\n",
    "sns.heatmap(cm1,annot=True)"
   ]
  },
  {
   "cell_type": "code",
   "execution_count": 16,
   "metadata": {},
   "outputs": [],
   "source": [
    "# importing modules\n",
    "import cv2\n",
    "import pytesseract\n",
    "\n",
    "# reading image using opencv\n",
    "image = cv2.imread('samplepositive.jpg')\n",
    "\n",
    "#converting image into gray scale image\n",
    "gray_image = cv2.cvtColor(image, cv2.COLOR_BGR2GRAY)\n",
    "\n",
    "# converting it to binary image by Thresholding\n",
    "# this step is require if you have colored image because if you skip this part \n",
    "# then tesseract won't able to detect text correctly and this will give incorrect result\n",
    "threshold_img = cv2.threshold(gray_image, 0, 255, cv2.THRESH_BINARY | cv2.THRESH_OTSU)[1]\n",
    "\n",
    "# display image\n",
    "#cv2.imshow( '',threshold_img)\n",
    "\n",
    "# Maintain output window until user presses a key\n",
    "#cv2.waitKey(0)\n",
    "\n",
    "# Destroying present windows on screen\n",
    "#cv2.destroyAllWindows()"
   ]
  },
  {
   "cell_type": "markdown",
   "metadata": {},
   "source": [
    "# USING OCR TO READ IMAGE TEXT"
   ]
  },
  {
   "cell_type": "code",
   "execution_count": 22,
   "metadata": {},
   "outputs": [
    {
     "name": "stdout",
     "output_type": "stream",
     "text": [
      "level\tpage_num\tblock_num\tpar_num\tline_num\tword_num\tleft\ttop\twidth\theight\tconf\ttext\n",
      "1\t1\t0\t0\t0\t0\t0\t0\t850\t400\t-1\t\n",
      "2\t1\t1\t0\t0\t0\t21\t80\t764\t304\t-1\t\n",
      "3\t1\t1\t1\t0\t0\t21\t80\t764\t304\t-1\t\n",
      "4\t1\t1\t1\t1\t0\t215\t80\t570\t32\t-1\t\n",
      "5\t1\t1\t1\t1\t1\t215\t81\t83\t31\t0\teo\n",
      "5\t1\t1\t1\t1\t2\t364\t81\t80\t27\t96\tAnger,\n",
      "5\t1\t1\t1\t1\t3\t455\t80\t81\t21\t96\thatred\n",
      "5\t1\t1\t1\t1\t4\t546\t80\t45\t21\t95\tand\n",
      "5\t1\t1\t1\t1\t5\t599\t80\t107\t28\t95\tjealousy\n",
      "5\t1\t1\t1\t1\t6\t716\t86\t69\t15\t96\tnever\n",
      "4\t1\t1\t1\t2\t0\t193\t117\t576\t33\t-1\t\n",
      "5\t1\t1\t1\t2\t1\t193\t127\t47\t23\t54\t4\n",
      "5\t1\t1\t1\t2\t2\t380\t117\t64\t21\t96\tsolve\n",
      "5\t1\t1\t1\t2\t3\t455\t117\t117\t28\t96\tproblems,\n",
      "5\t1\t1\t1\t2\t4\t575\t117\t66\t28\t96\tonly\n",
      "5\t1\t1\t1\t2\t5\t650\t117\t119\t25\t96\taffection,\n",
      "4\t1\t1\t1\t3\t0\t21\t152\t762\t56\t-1\t\n",
      "5\t1\t1\t1\t3\t1\t21\t152\t41\t56\t39\t(A\n",
      "5\t1\t1\t1\t3\t2\t118\t183\t4\t3\t0\td\n",
      "5\t1\t1\t1\t3\t3\t139\t152\t41\t10\t18\tcee\n",
      "5\t1\t1\t1\t3\t4\t263\t172\t4\t7\t0\tf\n",
      "5\t1\t1\t1\t3\t5\t368\t160\t98\t15\t96\tconcern\n",
      "5\t1\t1\t1\t3\t6\t476\t154\t45\t21\t96\tand\n",
      "5\t1\t1\t1\t3\t7\t532\t156\t93\t26\t96\trespect\n",
      "5\t1\t1\t1\t3\t8\t635\t160\t24\t15\t96\tcan\n",
      "5\t1\t1\t1\t3\t9\t663\t154\t36\t21\t95\tdo\n",
      "5\t1\t1\t1\t3\t10\t703\t154\t80\t21\t96\tthat.\n",
      "4\t1\t1\t1\t4\t0\t65\t198\t23\t14\t-1\t\n",
      "5\t1\t1\t1\t4\t1\t65\t198\t23\t14\t24\tas\n",
      "4\t1\t1\t1\t5\t0\t489\t222\t171\t21\t-1\t\n",
      "5\t1\t1\t1\t5\t1\t489\t222\t135\t21\t11\tSe\n",
      "5\t1\t1\t1\t5\t2\t634\t233\t26\t1\t24\taed\n",
      "4\t1\t1\t1\t6\t0\t216\t314\t64\t44\t-1\t\n",
      "5\t1\t1\t1\t6\t1\t216\t322\t9\t11\t21\ta\n",
      "5\t1\t1\t1\t6\t2\t255\t314\t25\t44\t38\tF\n",
      "4\t1\t1\t1\t7\t0\t238\t354\t388\t30\t-1\t\n",
      "5\t1\t1\t1\t7\t1\t238\t354\t31\t30\t23\tv7\n",
      "5\t1\t1\t1\t7\t2\t522\t358\t19\t12\t46\tAZ\n",
      "5\t1\t1\t1\t7\t3\t547\t357\t79\t17\t46\tQUOTES\n"
     ]
    }
   ],
   "source": [
    " #configuring parameters for tesseract\n",
    "custom_config = r'--oem 3 --psm 6'\n",
    "\n",
    "\n",
    "# 0\tLegacy engine only\n",
    "# 1\tNeural net LSTM only\n",
    "# 2\tLegacy + LSTM mode only\n",
    "# 3\tBy Default, based on what is currently available\n",
    "\n",
    "# now feeding image to tesseract\n",
    "details = pytesseract.image_to_data(threshold_img, config=custom_config)\n",
    "\n",
    "\n",
    "print(details)"
   ]
  },
  {
   "cell_type": "code",
   "execution_count": 23,
   "metadata": {},
   "outputs": [],
   "source": [
    "testtext =  preprocess(details)\n",
    "\n"
   ]
  },
  {
   "cell_type": "code",
   "execution_count": 24,
   "metadata": {},
   "outputs": [
    {
     "data": {
      "text/plain": [
       "'level page num block num par num line num word num left top width height conf text eo anger hatred jealousy never solve problems affection cee f concern respect se aed f v az quot'"
      ]
     },
     "execution_count": 24,
     "metadata": {},
     "output_type": "execute_result"
    }
   ],
   "source": [
    "testtext"
   ]
  },
  {
   "cell_type": "code",
   "execution_count": 25,
   "metadata": {},
   "outputs": [],
   "source": [
    "text_vect = tfidf_vectorizer.transform(([testtext]))  "
   ]
  },
  {
   "cell_type": "code",
   "execution_count": 26,
   "metadata": {},
   "outputs": [],
   "source": [
    "pred = pac.predict(text_vect)      #predicting Test Text\n",
    "\n"
   ]
  },
  {
   "cell_type": "code",
   "execution_count": 27,
   "metadata": {},
   "outputs": [
    {
     "data": {
      "text/plain": [
       "array([1.])"
      ]
     },
     "execution_count": 27,
     "metadata": {},
     "output_type": "execute_result"
    }
   ],
   "source": [
    "pred"
   ]
  },
  {
   "cell_type": "code",
   "execution_count": 28,
   "metadata": {},
   "outputs": [],
   "source": [
    "#Positive "
   ]
  },
  {
   "cell_type": "code",
   "execution_count": null,
   "metadata": {},
   "outputs": [],
   "source": []
  }
 ],
 "metadata": {
  "kernelspec": {
   "display_name": "Python 3",
   "language": "python",
   "name": "python3"
  },
  "language_info": {
   "codemirror_mode": {
    "name": "ipython",
    "version": 3
   },
   "file_extension": ".py",
   "mimetype": "text/x-python",
   "name": "python",
   "nbconvert_exporter": "python",
   "pygments_lexer": "ipython3",
   "version": "3.7.3"
  }
 },
 "nbformat": 4,
 "nbformat_minor": 2
}
